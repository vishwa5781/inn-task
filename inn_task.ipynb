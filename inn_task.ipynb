{
 "cells": [
  {
   "cell_type": "markdown",
   "metadata": {},
   "source": [
    "Question1"
   ]
  },
  {
   "cell_type": "code",
   "execution_count": 1,
   "metadata": {},
   "outputs": [],
   "source": [
    "class Book:\n",
    "    def __init__(self, title: str, author: str, isbn: str):\n",
    "        self.title = title\n",
    "        self.author = author\n",
    "        self.isbn = isbn\n",
    "    \n",
    "    def __str__(self):\n",
    "        return f\"Title: {self.title}, Author: {self.author}, ISBN: {self.isbn}\"\n",
    "        \n",
    "class Library:\n",
    "    def __init__(self):\n",
    "        self.books = []\n",
    "    \n",
    "    def add_book(self, book: Book):\n",
    "        self.books.append(book)\n",
    "        print(f\"Book '{book.title}' added to the library.\")\n",
    "    \n",
    "    def remove_book(self, isbn: str):\n",
    "        for book in self.books:\n",
    "            if book.isbn == isbn:\n",
    "                self.books.remove(book)\n",
    "                print(f\"Book '{book.title}' removed from the library.\")\n",
    "                return\n",
    "        print(\"Book not found.\")\n",
    "    \n",
    "    def display_books(self):\n",
    "        if not self.books:\n",
    "            print(\"No books available in the library.\")\n",
    "        else:\n",
    "            print(\"Available Books:\")\n",
    "            for book in self.books:\n",
    "                print(book)\n"
   ]
  },
  {
   "cell_type": "code",
   "execution_count": 2,
   "metadata": {},
   "outputs": [
    {
     "name": "stdout",
     "output_type": "stream",
     "text": [
      "Book 'The Great Gatsby' added to the library.\n",
      "Book 'To Kill a Mockingbird' added to the library.\n",
      "Available Books:\n",
      "Title: The Great Gatsby, Author: F. Scott Fitzgerald, ISBN: 12345\n",
      "Title: To Kill a Mockingbird, Author: Harper Lee, ISBN: 67890\n",
      "Book 'The Great Gatsby' removed from the library.\n",
      "Available Books:\n",
      "Title: To Kill a Mockingbird, Author: Harper Lee, ISBN: 67890\n"
     ]
    }
   ],
   "source": [
    "# Creating Book instances\n",
    "book1 = Book(\"The Great Gatsby\", \"F. Scott Fitzgerald\", \"12345\")\n",
    "book2 = Book(\"To Kill a Mockingbird\", \"Harper Lee\", \"67890\")\n",
    "\n",
    "# Creating a Library instance\n",
    "library = Library()\n",
    "\n",
    "# Adding books to the library\n",
    "library.add_book(book1)\n",
    "library.add_book(book2)\n",
    "\n",
    "# Displaying available books\n",
    "library.display_books()\n",
    "\n",
    "# Removing a book\n",
    "library.remove_book(\"12345\")\n",
    "\n",
    "# Displaying available books after removal\n",
    "library.display_books()"
   ]
  },
  {
   "cell_type": "markdown",
   "metadata": {},
   "source": [
    "QUESTION2"
   ]
  },
  {
   "cell_type": "code",
   "execution_count": 3,
   "metadata": {},
   "outputs": [
    {
     "name": "stdout",
     "output_type": "stream",
     "text": [
      "Total sales per product:\n",
      " Product\n",
      "A    250\n",
      "B    450\n",
      "C    700\n",
      "Name: Sales, dtype: int64\n",
      "\n",
      "Highest sales per region:\n",
      " Region\n",
      "East     400\n",
      "North    150\n",
      "South    250\n",
      "Name: Sales, dtype: int64\n",
      "\n",
      "DataFrame with Discounted Price:\n",
      "   Product  Sales Region  Discounted Price\n",
      "0       A    100  North              90.0\n",
      "1       B    200  South             180.0\n",
      "2       A    150  North             135.0\n",
      "3       C    300   East             270.0\n",
      "4       B    250  South             225.0\n",
      "5       C    400   East             360.0\n"
     ]
    }
   ],
   "source": [
    "import pandas as pd\n",
    "\n",
    "# Creating the DataFrame\n",
    "data = {\n",
    "    'Product': ['A', 'B', 'A', 'C', 'B', 'C'],\n",
    "    'Sales': [100, 200, 150, 300, 250, 400],\n",
    "    'Region': ['North', 'South', 'North', 'East', 'South', 'East']\n",
    "}\n",
    "df = pd.DataFrame(data)\n",
    "\n",
    "# 1. Find the total sales per product\n",
    "total_sales_per_product = df.groupby('Product')['Sales'].sum()\n",
    "print(\"Total sales per product:\\n\", total_sales_per_product)\n",
    "\n",
    "# 2. Find the highest sales value per region\n",
    "highest_sales_per_region = df.groupby('Region')['Sales'].max()\n",
    "print(\"\\nHighest sales per region:\\n\", highest_sales_per_region)\n",
    "\n",
    "# 3. Add a new column 'Discounted Price' which is 90% of the sales\n",
    "df['Discounted Price'] = df['Sales'] * 0.9\n",
    "print(\"\\nDataFrame with Discounted Price:\\n\", df)\n"
   ]
  },
  {
   "cell_type": "markdown",
   "metadata": {},
   "source": [
    "QUESTION3"
   ]
  },
  {
   "cell_type": "code",
   "execution_count": 4,
   "metadata": {},
   "outputs": [
    {
     "name": "stdout",
     "output_type": "stream",
     "text": [
      "great is Python\n"
     ]
    }
   ],
   "source": [
    "def reverse_words(s):\n",
    "    words = s.split()  # Split the string into words\n",
    "    reversed_words = []  # Create an empty list to store reversed words\n",
    "    \n",
    "    # Iterate over the words in reverse order using a loop\n",
    "    for i in range(len(words) - 1, -1, -1):\n",
    "        reversed_words.append(words[i])\n",
    "    \n",
    "    return \" \".join(reversed_words)  # Join words back into a string\n",
    "\n",
    "# Example usage\n",
    "input_string = input()\n",
    "output_string = reverse_words(input_string)\n",
    "print(output_string) \n"
   ]
  },
  {
   "cell_type": "markdown",
   "metadata": {},
   "source": [
    "QUESTION4"
   ]
  },
  {
   "cell_type": "code",
   "execution_count": 5,
   "metadata": {},
   "outputs": [
    {
     "name": "stdout",
     "output_type": "stream",
     "text": [
      "3\n"
     ]
    }
   ],
   "source": [
    "def find_missing_number(nums):\n",
    "    n = len(nums) + 1  # The expected length of the full sequence\n",
    "    total_sum = n * (n + 1) // 2  # Sum of first n natural numbers using the formula\n",
    "    actual_sum = sum(nums)  # Sum of given numbers\n",
    "    return total_sum - actual_sum  # The missing number\n",
    "\n",
    "# Example usage\n",
    "nums = [1, 2, 4] \n",
    "print(find_missing_number(nums)) \n"
   ]
  },
  {
   "cell_type": "markdown",
   "metadata": {},
   "source": [
    "QUESTION5"
   ]
  },
  {
   "cell_type": "code",
   "execution_count": 6,
   "metadata": {},
   "outputs": [
    {
     "name": "stdout",
     "output_type": "stream",
     "text": [
      "Sum of squares: 385\n"
     ]
    }
   ],
   "source": [
    "import threading\n",
    "\n",
    "# Function to calculate the sum of squares\n",
    "def sum_of_squares(start, end, result, index):\n",
    "    total = 0\n",
    "    for i in range(start, end + 1):\n",
    "        total += i ** 2\n",
    "    result[index] = total\n",
    "\n",
    "# Function to execute multithreading\n",
    "def calculate_sum_of_squares(n, num_threads=2):\n",
    "    threads = []\n",
    "    result = [0] * num_threads\n",
    "    step = n // num_threads  # Divide the range into equal parts\n",
    "    \n",
    "    for i in range(num_threads):\n",
    "        start = i * step + 1\n",
    "        end = (i + 1) * step if i != num_threads - 1 else n\n",
    "        thread = threading.Thread(target=sum_of_squares, args=(start, end, result, i))\n",
    "        threads.append(thread)\n",
    "        thread.start()\n",
    "    \n",
    "    for thread in threads:\n",
    "        thread.join()\n",
    "    \n",
    "    return sum(result)\n",
    "\n",
    "n = input() \n",
    "print(\"Sum of squares:\", calculate_sum_of_squares(n))\n"
   ]
  },
  {
   "cell_type": "code",
   "execution_count": null,
   "metadata": {},
   "outputs": [],
   "source": []
  }
 ],
 "metadata": {
  "kernelspec": {
   "display_name": "tensorflow",
   "language": "python",
   "name": "python3"
  },
  "language_info": {
   "codemirror_mode": {
    "name": "ipython",
    "version": 3
   },
   "file_extension": ".py",
   "mimetype": "text/x-python",
   "name": "python",
   "nbconvert_exporter": "python",
   "pygments_lexer": "ipython3",
   "version": "3.10.15"
  }
 },
 "nbformat": 4,
 "nbformat_minor": 2
}
